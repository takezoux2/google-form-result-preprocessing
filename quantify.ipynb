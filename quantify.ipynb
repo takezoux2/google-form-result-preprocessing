{
 "cells": [
  {
   "cell_type": "code",
   "execution_count": 47,
   "metadata": {
    "collapsed": true,
    "ExecuteTime": {
     "end_time": "2023-06-22T16:27:13.008363300Z",
     "start_time": "2023-06-22T16:27:13.005344100Z"
    }
   },
   "outputs": [
    {
     "name": "stdout",
     "output_type": "stream",
     "text": [
      "   名前                   Eメール  年齢  性別  満足度 (1-5)  おすすめ度 (%)     評価 サポートの評価  \\\n",
      "0  国崎   kunisaki@example.com  34  男性          5        100     良い      良い   \n",
      "1  岡崎    okazaki@example.net  28  男性          4         90     悪い      悪い   \n",
      "2  神尾    kamio@example.co.jp  42  女性          3         80     普通           \n",
      "3  月宮  tsukimiya@example.org  37  女性          2         60  とても良い   とても良い   \n",
      "4  古河   furukawa@example.com  46  女性          4         85  とても悪い           \n",
      "5  能美      noumi@example.net  51  女性          5         95     普通      良い   \n",
      "\n",
      "                       購入商品                              お客様の声  \n",
      "0        スマートフォン, ノートパソコン,            非常に満足しています。サポートも素晴らしいです。  \n",
      "1             ノートパソコン, イヤホン              製品は良いですが、配送が少し遅かったです。  \n",
      "2                      イヤホン       イヤホンの音質はまあまあです。もう少し低音がほしいです。  \n",
      "3                     タブレット      機能は豊富ですが、使い勝手があまり良くないかもしれません。  \n",
      "4  コーヒーメーカー, タブレット, ノートパソコン  このコーヒーメーカーは本当に便利です。毎朝のコーヒーが楽しみです。  \n",
      "5                               軽くて持ち運びやすく、バッテリーも長持ちします。大満足です。  \n"
     ]
    },
    {
     "data": {
      "text/plain": "   名前                   Eメール  年齢  性別  満足度 (1-5)  おすすめ度 (%)     評価 サポートの評価  \\\n0  国崎   kunisaki@example.com  34  男性          5        100     良い      良い   \n1  岡崎    okazaki@example.net  28  男性          4         90     悪い      悪い   \n2  神尾    kamio@example.co.jp  42  女性          3         80     普通           \n3  月宮  tsukimiya@example.org  37  女性          2         60  とても良い   とても良い   \n4  古河   furukawa@example.com  46  女性          4         85  とても悪い           \n5  能美      noumi@example.net  51  女性          5         95     普通      良い   \n\n                       購入商品                              お客様の声  \n0        スマートフォン, ノートパソコン,            非常に満足しています。サポートも素晴らしいです。  \n1             ノートパソコン, イヤホン              製品は良いですが、配送が少し遅かったです。  \n2                      イヤホン       イヤホンの音質はまあまあです。もう少し低音がほしいです。  \n3                     タブレット      機能は豊富ですが、使い勝手があまり良くないかもしれません。  \n4  コーヒーメーカー, タブレット, ノートパソコン  このコーヒーメーカーは本当に便利です。毎朝のコーヒーが楽しみです。  \n5                               軽くて持ち運びやすく、バッテリーも長持ちします。大満足です。  ",
      "text/html": "<div>\n<style scoped>\n    .dataframe tbody tr th:only-of-type {\n        vertical-align: middle;\n    }\n\n    .dataframe tbody tr th {\n        vertical-align: top;\n    }\n\n    .dataframe thead th {\n        text-align: right;\n    }\n</style>\n<table border=\"1\" class=\"dataframe\">\n  <thead>\n    <tr style=\"text-align: right;\">\n      <th></th>\n      <th>名前</th>\n      <th>Eメール</th>\n      <th>年齢</th>\n      <th>性別</th>\n      <th>満足度 (1-5)</th>\n      <th>おすすめ度 (%)</th>\n      <th>評価</th>\n      <th>サポートの評価</th>\n      <th>購入商品</th>\n      <th>お客様の声</th>\n    </tr>\n  </thead>\n  <tbody>\n    <tr>\n      <th>0</th>\n      <td>国崎</td>\n      <td>kunisaki@example.com</td>\n      <td>34</td>\n      <td>男性</td>\n      <td>5</td>\n      <td>100</td>\n      <td>良い</td>\n      <td>良い</td>\n      <td>スマートフォン, ノートパソコン,</td>\n      <td>非常に満足しています。サポートも素晴らしいです。</td>\n    </tr>\n    <tr>\n      <th>1</th>\n      <td>岡崎</td>\n      <td>okazaki@example.net</td>\n      <td>28</td>\n      <td>男性</td>\n      <td>4</td>\n      <td>90</td>\n      <td>悪い</td>\n      <td>悪い</td>\n      <td>ノートパソコン, イヤホン</td>\n      <td>製品は良いですが、配送が少し遅かったです。</td>\n    </tr>\n    <tr>\n      <th>2</th>\n      <td>神尾</td>\n      <td>kamio@example.co.jp</td>\n      <td>42</td>\n      <td>女性</td>\n      <td>3</td>\n      <td>80</td>\n      <td>普通</td>\n      <td></td>\n      <td>イヤホン</td>\n      <td>イヤホンの音質はまあまあです。もう少し低音がほしいです。</td>\n    </tr>\n    <tr>\n      <th>3</th>\n      <td>月宮</td>\n      <td>tsukimiya@example.org</td>\n      <td>37</td>\n      <td>女性</td>\n      <td>2</td>\n      <td>60</td>\n      <td>とても良い</td>\n      <td>とても良い</td>\n      <td>タブレット</td>\n      <td>機能は豊富ですが、使い勝手があまり良くないかもしれません。</td>\n    </tr>\n    <tr>\n      <th>4</th>\n      <td>古河</td>\n      <td>furukawa@example.com</td>\n      <td>46</td>\n      <td>女性</td>\n      <td>4</td>\n      <td>85</td>\n      <td>とても悪い</td>\n      <td></td>\n      <td>コーヒーメーカー, タブレット, ノートパソコン</td>\n      <td>このコーヒーメーカーは本当に便利です。毎朝のコーヒーが楽しみです。</td>\n    </tr>\n    <tr>\n      <th>5</th>\n      <td>能美</td>\n      <td>noumi@example.net</td>\n      <td>51</td>\n      <td>女性</td>\n      <td>5</td>\n      <td>95</td>\n      <td>普通</td>\n      <td>良い</td>\n      <td></td>\n      <td>軽くて持ち運びやすく、バッテリーも長持ちします。大満足です。</td>\n    </tr>\n  </tbody>\n</table>\n</div>"
     },
     "execution_count": 47,
     "metadata": {},
     "output_type": "execute_result"
    }
   ],
   "source": [
    "import pandas as pd\n",
    "\n",
    "# データを辞書形式で作成\n",
    "data = {\n",
    "    '名前': ['国崎', '岡崎', '神尾', '月宮', '古河', '能美'],\n",
    "    'Eメール': ['kunisaki@example.com', 'okazaki@example.net', 'kamio@example.co.jp', 'tsukimiya@example.org', 'furukawa@example.com', 'noumi@example.net'],\n",
    "    '年齢': [34, 28, 42, 37, 46, 51],\n",
    "    '性別' : ['男性', '男性', '女性', '女性', '女性', '女性'],\n",
    "    '満足度 (1-5)': [5, 4, 3, 2, 4, 5],\n",
    "    'おすすめ度 (%)': [100, 90, 80, 60, 85, 95],\n",
    "    '評価': [\"良い\", \"悪い\", \"普通\", \"とても良い\", \"とても悪い\", \"普通\"],\n",
    "    'サポートの評価': [\"良い\", \"悪い\", \"\", \"とても良い\", \"\", \"良い\"],\n",
    "    '購入商品': ['スマートフォン, ノートパソコン, ', 'ノートパソコン, イヤホン', 'イヤホン', 'タブレット', 'コーヒーメーカー, タブレット, ノートパソコン', ''],\n",
    "    'お客様の声': ['非常に満足しています。サポートも素晴らしいです。', '製品は良いですが、配送が少し遅かったです。', 'イヤホンの音質はまあまあです。もう少し低音がほしいです。', '機能は豊富ですが、使い勝手があまり良くないかもしれません。', 'このコーヒーメーカーは本当に便利です。毎朝のコーヒーが楽しみです。', '軽くて持ち運びやすく、バッテリーも長持ちします。大満足です。']\n",
    "}\n",
    "\n",
    "# DataFrameを初期化\n",
    "df = pd.DataFrame(data)\n",
    "\n",
    "# DataFrameを表示\n",
    "print(df)\n",
    "\n",
    "\n",
    "df\n"
   ]
  },
  {
   "cell_type": "code",
   "execution_count": 48,
   "outputs": [
    {
     "data": {
      "text/plain": "   名前                   Eメール  年齢  性別  満足度 (1-5)  おすすめ度 (%)  評価  サポートの評価  \\\n0  国崎   kunisaki@example.com  34  男性          5        100   4      4.0   \n1  岡崎    okazaki@example.net  28  男性          4         90   2      2.0   \n2  神尾    kamio@example.co.jp  42  女性          3         80   3      NaN   \n3  月宮  tsukimiya@example.org  37  女性          2         60   5      5.0   \n4  古河   furukawa@example.com  46  女性          4         85   1      NaN   \n5  能美      noumi@example.net  51  女性          5         95   3      4.0   \n\n                       購入商品                              お客様の声  \n0        スマートフォン, ノートパソコン,            非常に満足しています。サポートも素晴らしいです。  \n1             ノートパソコン, イヤホン              製品は良いですが、配送が少し遅かったです。  \n2                      イヤホン       イヤホンの音質はまあまあです。もう少し低音がほしいです。  \n3                     タブレット      機能は豊富ですが、使い勝手があまり良くないかもしれません。  \n4  コーヒーメーカー, タブレット, ノートパソコン  このコーヒーメーカーは本当に便利です。毎朝のコーヒーが楽しみです。  \n5                               軽くて持ち運びやすく、バッテリーも長持ちします。大満足です。  ",
      "text/html": "<div>\n<style scoped>\n    .dataframe tbody tr th:only-of-type {\n        vertical-align: middle;\n    }\n\n    .dataframe tbody tr th {\n        vertical-align: top;\n    }\n\n    .dataframe thead th {\n        text-align: right;\n    }\n</style>\n<table border=\"1\" class=\"dataframe\">\n  <thead>\n    <tr style=\"text-align: right;\">\n      <th></th>\n      <th>名前</th>\n      <th>Eメール</th>\n      <th>年齢</th>\n      <th>性別</th>\n      <th>満足度 (1-5)</th>\n      <th>おすすめ度 (%)</th>\n      <th>評価</th>\n      <th>サポートの評価</th>\n      <th>購入商品</th>\n      <th>お客様の声</th>\n    </tr>\n  </thead>\n  <tbody>\n    <tr>\n      <th>0</th>\n      <td>国崎</td>\n      <td>kunisaki@example.com</td>\n      <td>34</td>\n      <td>男性</td>\n      <td>5</td>\n      <td>100</td>\n      <td>4</td>\n      <td>4.0</td>\n      <td>スマートフォン, ノートパソコン,</td>\n      <td>非常に満足しています。サポートも素晴らしいです。</td>\n    </tr>\n    <tr>\n      <th>1</th>\n      <td>岡崎</td>\n      <td>okazaki@example.net</td>\n      <td>28</td>\n      <td>男性</td>\n      <td>4</td>\n      <td>90</td>\n      <td>2</td>\n      <td>2.0</td>\n      <td>ノートパソコン, イヤホン</td>\n      <td>製品は良いですが、配送が少し遅かったです。</td>\n    </tr>\n    <tr>\n      <th>2</th>\n      <td>神尾</td>\n      <td>kamio@example.co.jp</td>\n      <td>42</td>\n      <td>女性</td>\n      <td>3</td>\n      <td>80</td>\n      <td>3</td>\n      <td>NaN</td>\n      <td>イヤホン</td>\n      <td>イヤホンの音質はまあまあです。もう少し低音がほしいです。</td>\n    </tr>\n    <tr>\n      <th>3</th>\n      <td>月宮</td>\n      <td>tsukimiya@example.org</td>\n      <td>37</td>\n      <td>女性</td>\n      <td>2</td>\n      <td>60</td>\n      <td>5</td>\n      <td>5.0</td>\n      <td>タブレット</td>\n      <td>機能は豊富ですが、使い勝手があまり良くないかもしれません。</td>\n    </tr>\n    <tr>\n      <th>4</th>\n      <td>古河</td>\n      <td>furukawa@example.com</td>\n      <td>46</td>\n      <td>女性</td>\n      <td>4</td>\n      <td>85</td>\n      <td>1</td>\n      <td>NaN</td>\n      <td>コーヒーメーカー, タブレット, ノートパソコン</td>\n      <td>このコーヒーメーカーは本当に便利です。毎朝のコーヒーが楽しみです。</td>\n    </tr>\n    <tr>\n      <th>5</th>\n      <td>能美</td>\n      <td>noumi@example.net</td>\n      <td>51</td>\n      <td>女性</td>\n      <td>5</td>\n      <td>95</td>\n      <td>3</td>\n      <td>4.0</td>\n      <td></td>\n      <td>軽くて持ち運びやすく、バッテリーも長持ちします。大満足です。</td>\n    </tr>\n  </tbody>\n</table>\n</div>"
     },
     "execution_count": 48,
     "metadata": {},
     "output_type": "execute_result"
    }
   ],
   "source": [
    "RATING_MAPPING = {\n",
    "    \"とても悪い\": 1,\n",
    "    \"悪い\": 2,\n",
    "    \"普通\": 3,\n",
    "    \"良い\": 4,\n",
    "    \"とても良い\": 5\n",
    "}\n",
    "\n",
    "# 評価を数値に変換\n",
    "df[\"評価\"] = df[\"評価\"].map(RATING_MAPPING)\n",
    "df[\"サポートの評価\"] = df[\"サポートの評価\"].map(RATING_MAPPING)\n",
    "\n",
    "df"
   ],
   "metadata": {
    "collapsed": false,
    "ExecuteTime": {
     "end_time": "2023-06-22T16:27:13.044466Z",
     "start_time": "2023-06-22T16:27:13.009367400Z"
    }
   }
  },
  {
   "cell_type": "code",
   "execution_count": 49,
   "outputs": [
    {
     "data": {
      "text/plain": "   名前                   Eメール  年齢  性別  満足度 (1-5)  おすすめ度 (%)  評価  サポートの評価  \\\n0  国崎   kunisaki@example.com  34  男性          5       1.00   4      4.0   \n1  岡崎    okazaki@example.net  28  男性          4       0.90   2      2.0   \n2  神尾    kamio@example.co.jp  42  女性          3       0.80   3      NaN   \n3  月宮  tsukimiya@example.org  37  女性          2       0.60   5      5.0   \n4  古河   furukawa@example.com  46  女性          4       0.85   1      NaN   \n5  能美      noumi@example.net  51  女性          5       0.95   3      4.0   \n\n                       購入商品                              お客様の声  \n0        スマートフォン, ノートパソコン,            非常に満足しています。サポートも素晴らしいです。  \n1             ノートパソコン, イヤホン              製品は良いですが、配送が少し遅かったです。  \n2                      イヤホン       イヤホンの音質はまあまあです。もう少し低音がほしいです。  \n3                     タブレット      機能は豊富ですが、使い勝手があまり良くないかもしれません。  \n4  コーヒーメーカー, タブレット, ノートパソコン  このコーヒーメーカーは本当に便利です。毎朝のコーヒーが楽しみです。  \n5                               軽くて持ち運びやすく、バッテリーも長持ちします。大満足です。  ",
      "text/html": "<div>\n<style scoped>\n    .dataframe tbody tr th:only-of-type {\n        vertical-align: middle;\n    }\n\n    .dataframe tbody tr th {\n        vertical-align: top;\n    }\n\n    .dataframe thead th {\n        text-align: right;\n    }\n</style>\n<table border=\"1\" class=\"dataframe\">\n  <thead>\n    <tr style=\"text-align: right;\">\n      <th></th>\n      <th>名前</th>\n      <th>Eメール</th>\n      <th>年齢</th>\n      <th>性別</th>\n      <th>満足度 (1-5)</th>\n      <th>おすすめ度 (%)</th>\n      <th>評価</th>\n      <th>サポートの評価</th>\n      <th>購入商品</th>\n      <th>お客様の声</th>\n    </tr>\n  </thead>\n  <tbody>\n    <tr>\n      <th>0</th>\n      <td>国崎</td>\n      <td>kunisaki@example.com</td>\n      <td>34</td>\n      <td>男性</td>\n      <td>5</td>\n      <td>1.00</td>\n      <td>4</td>\n      <td>4.0</td>\n      <td>スマートフォン, ノートパソコン,</td>\n      <td>非常に満足しています。サポートも素晴らしいです。</td>\n    </tr>\n    <tr>\n      <th>1</th>\n      <td>岡崎</td>\n      <td>okazaki@example.net</td>\n      <td>28</td>\n      <td>男性</td>\n      <td>4</td>\n      <td>0.90</td>\n      <td>2</td>\n      <td>2.0</td>\n      <td>ノートパソコン, イヤホン</td>\n      <td>製品は良いですが、配送が少し遅かったです。</td>\n    </tr>\n    <tr>\n      <th>2</th>\n      <td>神尾</td>\n      <td>kamio@example.co.jp</td>\n      <td>42</td>\n      <td>女性</td>\n      <td>3</td>\n      <td>0.80</td>\n      <td>3</td>\n      <td>NaN</td>\n      <td>イヤホン</td>\n      <td>イヤホンの音質はまあまあです。もう少し低音がほしいです。</td>\n    </tr>\n    <tr>\n      <th>3</th>\n      <td>月宮</td>\n      <td>tsukimiya@example.org</td>\n      <td>37</td>\n      <td>女性</td>\n      <td>2</td>\n      <td>0.60</td>\n      <td>5</td>\n      <td>5.0</td>\n      <td>タブレット</td>\n      <td>機能は豊富ですが、使い勝手があまり良くないかもしれません。</td>\n    </tr>\n    <tr>\n      <th>4</th>\n      <td>古河</td>\n      <td>furukawa@example.com</td>\n      <td>46</td>\n      <td>女性</td>\n      <td>4</td>\n      <td>0.85</td>\n      <td>1</td>\n      <td>NaN</td>\n      <td>コーヒーメーカー, タブレット, ノートパソコン</td>\n      <td>このコーヒーメーカーは本当に便利です。毎朝のコーヒーが楽しみです。</td>\n    </tr>\n    <tr>\n      <th>5</th>\n      <td>能美</td>\n      <td>noumi@example.net</td>\n      <td>51</td>\n      <td>女性</td>\n      <td>5</td>\n      <td>0.95</td>\n      <td>3</td>\n      <td>4.0</td>\n      <td></td>\n      <td>軽くて持ち運びやすく、バッテリーも長持ちします。大満足です。</td>\n    </tr>\n  </tbody>\n</table>\n</div>"
     },
     "execution_count": 49,
     "metadata": {},
     "output_type": "execute_result"
    }
   ],
   "source": [
    "# おすすめ度をパーセンテージから数値に変換\n",
    "df[\"おすすめ度 (%)\"] = df[\"おすすめ度 (%)\"] / 100\n",
    "\n",
    "df"
   ],
   "metadata": {
    "collapsed": false,
    "ExecuteTime": {
     "end_time": "2023-06-22T16:27:13.079043200Z",
     "start_time": "2023-06-22T16:27:13.025083500Z"
    }
   }
  },
  {
   "cell_type": "code",
   "execution_count": 50,
   "outputs": [
    {
     "data": {
      "text/plain": "   名前                   Eメール  年齢  性別  満足度 (1-5)  おすすめ度 (%)  評価  サポートの評価  \\\n0  国崎   kunisaki@example.com  34  男性          5       1.00   4      4.0   \n1  岡崎    okazaki@example.net  28  男性          4       0.90   2      2.0   \n2  神尾    kamio@example.co.jp  42  女性          3       0.80   3      NaN   \n3  月宮  tsukimiya@example.org  37  女性          2       0.60   5      5.0   \n4  古河   furukawa@example.com  46  女性          4       0.85   1      NaN   \n5  能美      noumi@example.net  51  女性          5       0.95   3      4.0   \n\n                               お客様の声  イヤホン  コーヒーメーカー  スマートフォン  タブレット  ノートパソコン  \n0           非常に満足しています。サポートも素晴らしいです。     0         0        1      0        1  \n1              製品は良いですが、配送が少し遅かったです。     1         0        0      0        1  \n2       イヤホンの音質はまあまあです。もう少し低音がほしいです。     1         0        0      0        0  \n3      機能は豊富ですが、使い勝手があまり良くないかもしれません。     0         0        0      1        0  \n4  このコーヒーメーカーは本当に便利です。毎朝のコーヒーが楽しみです。     0         1        0      1        1  \n5     軽くて持ち運びやすく、バッテリーも長持ちします。大満足です。     0         0        0      0        0  ",
      "text/html": "<div>\n<style scoped>\n    .dataframe tbody tr th:only-of-type {\n        vertical-align: middle;\n    }\n\n    .dataframe tbody tr th {\n        vertical-align: top;\n    }\n\n    .dataframe thead th {\n        text-align: right;\n    }\n</style>\n<table border=\"1\" class=\"dataframe\">\n  <thead>\n    <tr style=\"text-align: right;\">\n      <th></th>\n      <th>名前</th>\n      <th>Eメール</th>\n      <th>年齢</th>\n      <th>性別</th>\n      <th>満足度 (1-5)</th>\n      <th>おすすめ度 (%)</th>\n      <th>評価</th>\n      <th>サポートの評価</th>\n      <th>お客様の声</th>\n      <th>イヤホン</th>\n      <th>コーヒーメーカー</th>\n      <th>スマートフォン</th>\n      <th>タブレット</th>\n      <th>ノートパソコン</th>\n    </tr>\n  </thead>\n  <tbody>\n    <tr>\n      <th>0</th>\n      <td>国崎</td>\n      <td>kunisaki@example.com</td>\n      <td>34</td>\n      <td>男性</td>\n      <td>5</td>\n      <td>1.00</td>\n      <td>4</td>\n      <td>4.0</td>\n      <td>非常に満足しています。サポートも素晴らしいです。</td>\n      <td>0</td>\n      <td>0</td>\n      <td>1</td>\n      <td>0</td>\n      <td>1</td>\n    </tr>\n    <tr>\n      <th>1</th>\n      <td>岡崎</td>\n      <td>okazaki@example.net</td>\n      <td>28</td>\n      <td>男性</td>\n      <td>4</td>\n      <td>0.90</td>\n      <td>2</td>\n      <td>2.0</td>\n      <td>製品は良いですが、配送が少し遅かったです。</td>\n      <td>1</td>\n      <td>0</td>\n      <td>0</td>\n      <td>0</td>\n      <td>1</td>\n    </tr>\n    <tr>\n      <th>2</th>\n      <td>神尾</td>\n      <td>kamio@example.co.jp</td>\n      <td>42</td>\n      <td>女性</td>\n      <td>3</td>\n      <td>0.80</td>\n      <td>3</td>\n      <td>NaN</td>\n      <td>イヤホンの音質はまあまあです。もう少し低音がほしいです。</td>\n      <td>1</td>\n      <td>0</td>\n      <td>0</td>\n      <td>0</td>\n      <td>0</td>\n    </tr>\n    <tr>\n      <th>3</th>\n      <td>月宮</td>\n      <td>tsukimiya@example.org</td>\n      <td>37</td>\n      <td>女性</td>\n      <td>2</td>\n      <td>0.60</td>\n      <td>5</td>\n      <td>5.0</td>\n      <td>機能は豊富ですが、使い勝手があまり良くないかもしれません。</td>\n      <td>0</td>\n      <td>0</td>\n      <td>0</td>\n      <td>1</td>\n      <td>0</td>\n    </tr>\n    <tr>\n      <th>4</th>\n      <td>古河</td>\n      <td>furukawa@example.com</td>\n      <td>46</td>\n      <td>女性</td>\n      <td>4</td>\n      <td>0.85</td>\n      <td>1</td>\n      <td>NaN</td>\n      <td>このコーヒーメーカーは本当に便利です。毎朝のコーヒーが楽しみです。</td>\n      <td>0</td>\n      <td>1</td>\n      <td>0</td>\n      <td>1</td>\n      <td>1</td>\n    </tr>\n    <tr>\n      <th>5</th>\n      <td>能美</td>\n      <td>noumi@example.net</td>\n      <td>51</td>\n      <td>女性</td>\n      <td>5</td>\n      <td>0.95</td>\n      <td>3</td>\n      <td>4.0</td>\n      <td>軽くて持ち運びやすく、バッテリーも長持ちします。大満足です。</td>\n      <td>0</td>\n      <td>0</td>\n      <td>0</td>\n      <td>0</td>\n      <td>0</td>\n    </tr>\n  </tbody>\n</table>\n</div>"
     },
     "execution_count": 50,
     "metadata": {},
     "output_type": "execute_result"
    }
   ],
   "source": [
    "# 購入商品をOne hot encodingする\n",
    "df = df.join(df[\"購入商品\"].str.get_dummies(\", \"))\n",
    "# 購入商品の列を削除\n",
    "df = df.drop(\"購入商品\", axis=1)\n",
    "df"
   ],
   "metadata": {
    "collapsed": false,
    "ExecuteTime": {
     "end_time": "2023-06-22T16:27:13.093044Z",
     "start_time": "2023-06-22T16:27:13.044466Z"
    }
   }
  },
  {
   "cell_type": "code",
   "execution_count": 51,
   "outputs": [
    {
     "data": {
      "text/plain": "       名前                   Eメール  年齢  性別  満足度 (1-5)  おすすめ度 (%)  評価  サポートの評価  \\\n0  Mr. 国崎   KUN**************COM  34  男性          5       1.00   4      4.0   \n1  Mr. 岡崎    OKA*************NET  28  男性          4       0.90   2      2.0   \n2  Ms. 神尾    KAM*************.JP  42  女性          3       0.80   3      NaN   \n3  Ms. 月宮  TSU***************ORG  37  女性          2       0.60   5      5.0   \n4  Ms. 古河   FUR**************COM  46  女性          4       0.85   1      NaN   \n5  Ms. 能美      NOU***********NET  51  女性          5       0.95   3      4.0   \n\n                               お客様の声  イヤホン  コーヒーメーカー  スマートフォン  タブレット  ノートパソコン  \\\n0           非常に満足しています。サポートも素晴らしいです。     0         0        1      0        1   \n1              製品は良いですが、配送が少し遅かったです。     1         0        0      0        1   \n2       イヤホンの音質はまあまあです。もう少し低音がほしいです。     1         0        0      0        0   \n3      機能は豊富ですが、使い勝手があまり良くないかもしれません。     0         0        0      1        0   \n4  このコーヒーメーカーは本当に便利です。毎朝のコーヒーが楽しみです。     0         1        0      1        1   \n5     軽くて持ち運びやすく、バッテリーも長持ちします。大満足です。     0         0        0      0        0   \n\n            ドメイン  \n0    example.com  \n1    example.net  \n2  example.co.jp  \n3    example.org  \n4    example.com  \n5    example.net  ",
      "text/html": "<div>\n<style scoped>\n    .dataframe tbody tr th:only-of-type {\n        vertical-align: middle;\n    }\n\n    .dataframe tbody tr th {\n        vertical-align: top;\n    }\n\n    .dataframe thead th {\n        text-align: right;\n    }\n</style>\n<table border=\"1\" class=\"dataframe\">\n  <thead>\n    <tr style=\"text-align: right;\">\n      <th></th>\n      <th>名前</th>\n      <th>Eメール</th>\n      <th>年齢</th>\n      <th>性別</th>\n      <th>満足度 (1-5)</th>\n      <th>おすすめ度 (%)</th>\n      <th>評価</th>\n      <th>サポートの評価</th>\n      <th>お客様の声</th>\n      <th>イヤホン</th>\n      <th>コーヒーメーカー</th>\n      <th>スマートフォン</th>\n      <th>タブレット</th>\n      <th>ノートパソコン</th>\n      <th>ドメイン</th>\n    </tr>\n  </thead>\n  <tbody>\n    <tr>\n      <th>0</th>\n      <td>Mr. 国崎</td>\n      <td>KUN**************COM</td>\n      <td>34</td>\n      <td>男性</td>\n      <td>5</td>\n      <td>1.00</td>\n      <td>4</td>\n      <td>4.0</td>\n      <td>非常に満足しています。サポートも素晴らしいです。</td>\n      <td>0</td>\n      <td>0</td>\n      <td>1</td>\n      <td>0</td>\n      <td>1</td>\n      <td>example.com</td>\n    </tr>\n    <tr>\n      <th>1</th>\n      <td>Mr. 岡崎</td>\n      <td>OKA*************NET</td>\n      <td>28</td>\n      <td>男性</td>\n      <td>4</td>\n      <td>0.90</td>\n      <td>2</td>\n      <td>2.0</td>\n      <td>製品は良いですが、配送が少し遅かったです。</td>\n      <td>1</td>\n      <td>0</td>\n      <td>0</td>\n      <td>0</td>\n      <td>1</td>\n      <td>example.net</td>\n    </tr>\n    <tr>\n      <th>2</th>\n      <td>Ms. 神尾</td>\n      <td>KAM*************.JP</td>\n      <td>42</td>\n      <td>女性</td>\n      <td>3</td>\n      <td>0.80</td>\n      <td>3</td>\n      <td>NaN</td>\n      <td>イヤホンの音質はまあまあです。もう少し低音がほしいです。</td>\n      <td>1</td>\n      <td>0</td>\n      <td>0</td>\n      <td>0</td>\n      <td>0</td>\n      <td>example.co.jp</td>\n    </tr>\n    <tr>\n      <th>3</th>\n      <td>Ms. 月宮</td>\n      <td>TSU***************ORG</td>\n      <td>37</td>\n      <td>女性</td>\n      <td>2</td>\n      <td>0.60</td>\n      <td>5</td>\n      <td>5.0</td>\n      <td>機能は豊富ですが、使い勝手があまり良くないかもしれません。</td>\n      <td>0</td>\n      <td>0</td>\n      <td>0</td>\n      <td>1</td>\n      <td>0</td>\n      <td>example.org</td>\n    </tr>\n    <tr>\n      <th>4</th>\n      <td>Ms. 古河</td>\n      <td>FUR**************COM</td>\n      <td>46</td>\n      <td>女性</td>\n      <td>4</td>\n      <td>0.85</td>\n      <td>1</td>\n      <td>NaN</td>\n      <td>このコーヒーメーカーは本当に便利です。毎朝のコーヒーが楽しみです。</td>\n      <td>0</td>\n      <td>1</td>\n      <td>0</td>\n      <td>1</td>\n      <td>1</td>\n      <td>example.com</td>\n    </tr>\n    <tr>\n      <th>5</th>\n      <td>Ms. 能美</td>\n      <td>NOU***********NET</td>\n      <td>51</td>\n      <td>女性</td>\n      <td>5</td>\n      <td>0.95</td>\n      <td>3</td>\n      <td>4.0</td>\n      <td>軽くて持ち運びやすく、バッテリーも長持ちします。大満足です。</td>\n      <td>0</td>\n      <td>0</td>\n      <td>0</td>\n      <td>0</td>\n      <td>0</td>\n      <td>example.net</td>\n    </tr>\n  </tbody>\n</table>\n</div>"
     },
     "execution_count": 51,
     "metadata": {},
     "output_type": "execute_result"
    }
   ],
   "source": [
    "# Emailのドメインを抜き出す\n",
    "df[\"ドメイン\"] = df[\"Eメール\"].str.split(\"@\").str.get(1)\n",
    "# Eメールをすべて大文字に変換\n",
    "df[\"Eメール\"] = df[\"Eメール\"].str.upper()\n",
    "# Eメールの最初の3文字と最後の3文字を残して同じ文字数の*でマスキング\n",
    "df[\"Eメール\"] = df[\"Eメール\"].apply(lambda x: x[:3] + \"*\" * (len(x) - 6) + x[-3:])\n",
    "# 男性には名前にMr.を、女性にはMs.をつける\n",
    "df[\"名前\"] = df.apply(lambda row: \"Mr. \" + row[\"名前\"] if row[\"性別\"] == \"男性\" else \"Ms. \" + row[\"名前\"], axis=1)\n",
    "df"
   ],
   "metadata": {
    "collapsed": false,
    "ExecuteTime": {
     "end_time": "2023-06-22T16:27:13.110080900Z",
     "start_time": "2023-06-22T16:27:13.076043Z"
    }
   }
  },
  {
   "cell_type": "code",
   "execution_count": 52,
   "outputs": [
    {
     "data": {
      "text/plain": "       名前                   Eメール  年齢  性別  満足度 (1-5)  おすすめ度 (%)  評価  サポートの評価  \\\n0  Mr. 国崎   KUN**************COM  34  男性          5       1.00   4      4.0   \n1  Mr. 岡崎    OKA*************NET  28  男性          4       0.90   2      2.0   \n2  Ms. 神尾    KAM*************.JP  42  女性          3       0.80   3      NaN   \n3  Ms. 月宮  TSU***************ORG  37  女性          2       0.60   5      5.0   \n4  Ms. 古河   FUR**************COM  46  女性          4       0.85   1      NaN   \n5  Ms. 能美      NOU***********NET  51  女性          5       0.95   3      4.0   \n\n                               お客様の声  イヤホン  コーヒーメーカー  スマートフォン  タブレット  ノートパソコン  \\\n0           非常に満足しています。サポートも素晴らしいです。     0         0        1      0        1   \n1              製品は良いですが、配送が少し遅かったです。     1         0        0      0        1   \n2       イヤホンの音質はまあまあです。もう少し低音がほしいです。     1         0        0      0        0   \n3      機能は豊富ですが、使い勝手があまり良くないかもしれません。     0         0        0      1        0   \n4  このコーヒーメーカーは本当に便利です。毎朝のコーヒーが楽しみです。     0         1        0      1        1   \n5     軽くて持ち運びやすく、バッテリーも長持ちします。大満足です。     0         0        0      0        0   \n\n            ドメイン  便利という単語がお客様の声に含まれる  \n0    example.com                   0  \n1    example.net                   0  \n2  example.co.jp                   0  \n3    example.org                   0  \n4    example.com                   1  \n5    example.net                   0  ",
      "text/html": "<div>\n<style scoped>\n    .dataframe tbody tr th:only-of-type {\n        vertical-align: middle;\n    }\n\n    .dataframe tbody tr th {\n        vertical-align: top;\n    }\n\n    .dataframe thead th {\n        text-align: right;\n    }\n</style>\n<table border=\"1\" class=\"dataframe\">\n  <thead>\n    <tr style=\"text-align: right;\">\n      <th></th>\n      <th>名前</th>\n      <th>Eメール</th>\n      <th>年齢</th>\n      <th>性別</th>\n      <th>満足度 (1-5)</th>\n      <th>おすすめ度 (%)</th>\n      <th>評価</th>\n      <th>サポートの評価</th>\n      <th>お客様の声</th>\n      <th>イヤホン</th>\n      <th>コーヒーメーカー</th>\n      <th>スマートフォン</th>\n      <th>タブレット</th>\n      <th>ノートパソコン</th>\n      <th>ドメイン</th>\n      <th>便利という単語がお客様の声に含まれる</th>\n    </tr>\n  </thead>\n  <tbody>\n    <tr>\n      <th>0</th>\n      <td>Mr. 国崎</td>\n      <td>KUN**************COM</td>\n      <td>34</td>\n      <td>男性</td>\n      <td>5</td>\n      <td>1.00</td>\n      <td>4</td>\n      <td>4.0</td>\n      <td>非常に満足しています。サポートも素晴らしいです。</td>\n      <td>0</td>\n      <td>0</td>\n      <td>1</td>\n      <td>0</td>\n      <td>1</td>\n      <td>example.com</td>\n      <td>0</td>\n    </tr>\n    <tr>\n      <th>1</th>\n      <td>Mr. 岡崎</td>\n      <td>OKA*************NET</td>\n      <td>28</td>\n      <td>男性</td>\n      <td>4</td>\n      <td>0.90</td>\n      <td>2</td>\n      <td>2.0</td>\n      <td>製品は良いですが、配送が少し遅かったです。</td>\n      <td>1</td>\n      <td>0</td>\n      <td>0</td>\n      <td>0</td>\n      <td>1</td>\n      <td>example.net</td>\n      <td>0</td>\n    </tr>\n    <tr>\n      <th>2</th>\n      <td>Ms. 神尾</td>\n      <td>KAM*************.JP</td>\n      <td>42</td>\n      <td>女性</td>\n      <td>3</td>\n      <td>0.80</td>\n      <td>3</td>\n      <td>NaN</td>\n      <td>イヤホンの音質はまあまあです。もう少し低音がほしいです。</td>\n      <td>1</td>\n      <td>0</td>\n      <td>0</td>\n      <td>0</td>\n      <td>0</td>\n      <td>example.co.jp</td>\n      <td>0</td>\n    </tr>\n    <tr>\n      <th>3</th>\n      <td>Ms. 月宮</td>\n      <td>TSU***************ORG</td>\n      <td>37</td>\n      <td>女性</td>\n      <td>2</td>\n      <td>0.60</td>\n      <td>5</td>\n      <td>5.0</td>\n      <td>機能は豊富ですが、使い勝手があまり良くないかもしれません。</td>\n      <td>0</td>\n      <td>0</td>\n      <td>0</td>\n      <td>1</td>\n      <td>0</td>\n      <td>example.org</td>\n      <td>0</td>\n    </tr>\n    <tr>\n      <th>4</th>\n      <td>Ms. 古河</td>\n      <td>FUR**************COM</td>\n      <td>46</td>\n      <td>女性</td>\n      <td>4</td>\n      <td>0.85</td>\n      <td>1</td>\n      <td>NaN</td>\n      <td>このコーヒーメーカーは本当に便利です。毎朝のコーヒーが楽しみです。</td>\n      <td>0</td>\n      <td>1</td>\n      <td>0</td>\n      <td>1</td>\n      <td>1</td>\n      <td>example.com</td>\n      <td>1</td>\n    </tr>\n    <tr>\n      <th>5</th>\n      <td>Ms. 能美</td>\n      <td>NOU***********NET</td>\n      <td>51</td>\n      <td>女性</td>\n      <td>5</td>\n      <td>0.95</td>\n      <td>3</td>\n      <td>4.0</td>\n      <td>軽くて持ち運びやすく、バッテリーも長持ちします。大満足です。</td>\n      <td>0</td>\n      <td>0</td>\n      <td>0</td>\n      <td>0</td>\n      <td>0</td>\n      <td>example.net</td>\n      <td>0</td>\n    </tr>\n  </tbody>\n</table>\n</div>"
     },
     "execution_count": 52,
     "metadata": {},
     "output_type": "execute_result"
    }
   ],
   "source": [
    "# お客様の声に便利という単語が含まれているかどうかを判定する\n",
    "df[\"便利という単語がお客様の声に含まれる\"] = df[\"お客様の声\"].str.contains(\"便利\")\n",
    "# 便利というお客様の声が含まれるのカラムをintに変換\n",
    "df[\"便利という単語がお客様の声に含まれる\"] = df[\"便利という単語がお客様の声に含まれる\"].astype(int)\n",
    "df"
   ],
   "metadata": {
    "collapsed": false,
    "ExecuteTime": {
     "end_time": "2023-06-22T16:27:13.110080900Z",
     "start_time": "2023-06-22T16:27:13.085042900Z"
    }
   }
  },
  {
   "cell_type": "code",
   "execution_count": 59,
   "outputs": [
    {
     "name": "stdout",
     "output_type": "stream",
     "text": [
      "3.75\n",
      "3.5\n"
     ]
    },
    {
     "data": {
      "text/plain": "                 age  満足度 (1-5)  おすすめ度 (%)    評価  サポートの評価      イヤホン  コーヒーメーカー  \\\nsum       238.000000  23.000000      5.100  18.0    15.00  2.000000  1.000000   \nmean       39.666667   3.833333      0.850   3.0     3.75  0.333333  0.166667   \nmedian     39.500000   4.000000      0.875   3.0     4.00  0.000000  0.000000   \nmax        51.000000   5.000000      1.000   5.0     5.00  1.000000  1.000000   \n<lambda>   48.500000   5.000000      0.975   4.5     4.70  1.000000  0.500000   \n\n           スマートフォン     タブレット  ノートパソコン  便利という単語がお客様の声に含まれる  \nsum       1.000000  2.000000      3.0            1.000000  \nmean      0.166667  0.333333      0.5            0.166667  \nmedian    0.000000  0.000000      0.5            0.000000  \nmax       1.000000  1.000000      1.0            1.000000  \n<lambda>  0.500000  1.000000      1.0            0.500000  ",
      "text/html": "<div>\n<style scoped>\n    .dataframe tbody tr th:only-of-type {\n        vertical-align: middle;\n    }\n\n    .dataframe tbody tr th {\n        vertical-align: top;\n    }\n\n    .dataframe thead th {\n        text-align: right;\n    }\n</style>\n<table border=\"1\" class=\"dataframe\">\n  <thead>\n    <tr style=\"text-align: right;\">\n      <th></th>\n      <th>age</th>\n      <th>満足度 (1-5)</th>\n      <th>おすすめ度 (%)</th>\n      <th>評価</th>\n      <th>サポートの評価</th>\n      <th>イヤホン</th>\n      <th>コーヒーメーカー</th>\n      <th>スマートフォン</th>\n      <th>タブレット</th>\n      <th>ノートパソコン</th>\n      <th>便利という単語がお客様の声に含まれる</th>\n    </tr>\n  </thead>\n  <tbody>\n    <tr>\n      <th>sum</th>\n      <td>238.000000</td>\n      <td>23.000000</td>\n      <td>5.100</td>\n      <td>18.0</td>\n      <td>15.00</td>\n      <td>2.000000</td>\n      <td>1.000000</td>\n      <td>1.000000</td>\n      <td>2.000000</td>\n      <td>3.0</td>\n      <td>1.000000</td>\n    </tr>\n    <tr>\n      <th>mean</th>\n      <td>39.666667</td>\n      <td>3.833333</td>\n      <td>0.850</td>\n      <td>3.0</td>\n      <td>3.75</td>\n      <td>0.333333</td>\n      <td>0.166667</td>\n      <td>0.166667</td>\n      <td>0.333333</td>\n      <td>0.5</td>\n      <td>0.166667</td>\n    </tr>\n    <tr>\n      <th>median</th>\n      <td>39.500000</td>\n      <td>4.000000</td>\n      <td>0.875</td>\n      <td>3.0</td>\n      <td>4.00</td>\n      <td>0.000000</td>\n      <td>0.000000</td>\n      <td>0.000000</td>\n      <td>0.000000</td>\n      <td>0.5</td>\n      <td>0.000000</td>\n    </tr>\n    <tr>\n      <th>max</th>\n      <td>51.000000</td>\n      <td>5.000000</td>\n      <td>1.000</td>\n      <td>5.0</td>\n      <td>5.00</td>\n      <td>1.000000</td>\n      <td>1.000000</td>\n      <td>1.000000</td>\n      <td>1.000000</td>\n      <td>1.0</td>\n      <td>1.000000</td>\n    </tr>\n    <tr>\n      <th>&lt;lambda&gt;</th>\n      <td>48.500000</td>\n      <td>5.000000</td>\n      <td>0.975</td>\n      <td>4.5</td>\n      <td>4.70</td>\n      <td>1.000000</td>\n      <td>0.500000</td>\n      <td>0.500000</td>\n      <td>1.000000</td>\n      <td>1.0</td>\n      <td>0.500000</td>\n    </tr>\n  </tbody>\n</table>\n</div>"
     },
     "execution_count": 59,
     "metadata": {},
     "output_type": "execute_result"
    }
   ],
   "source": [
    "# 数値のカラムだけを抽出\n",
    "df_num = df.select_dtypes(include=\"number\")\n",
    "# 各カラムの合計、平均値、中央値、最大値、90percentileを計算\n",
    "statistics = df_num.agg([\"sum\", \"mean\", \"median\", \"max\", lambda x: x.quantile(0.9)])\n",
    "\n",
    "\n",
    "statistics"
   ],
   "metadata": {
    "collapsed": false,
    "ExecuteTime": {
     "end_time": "2023-06-22T16:28:49.696857800Z",
     "start_time": "2023-06-22T16:28:49.661820300Z"
    }
   }
  },
  {
   "cell_type": "code",
   "execution_count": 54,
   "outputs": [
    {
     "data": {
      "text/plain": "                          年齢  満足度 (1-5)     おすすめ度 (%)        評価       サポートの評価  \\\n年齢                  1.000000   0.177385  4.229802e-02 -0.203030 -1.545162e-01   \n満足度 (1-5)           0.177385   1.000000  9.677734e-01 -0.362915  3.945661e-02   \nおすすめ度 (%)           0.042298   0.967773  1.000000e+00 -0.400000 -9.784921e-02   \n評価                 -0.203030  -0.362915 -4.000000e-01  1.000000  7.827937e-01   \nサポートの評価            -0.154516   0.039457 -9.784921e-02  0.782794  1.000000e+00   \nイヤホン               -0.432461  -0.220863  1.330206e-16 -0.273861 -5.359422e-01   \nコーヒーメーカー            0.371196   0.069843  6.009258e-17 -0.692820 -5.649327e-01   \nスマートフォン            -0.332122   0.488901  5.196152e-01  0.346410  3.389596e-01   \nタブレット               0.169896  -0.552158 -6.846532e-01  0.000000  1.983385e-17   \nノートパソコン            -0.480537   0.468521  5.163978e-01 -0.516398 -2.526456e-01   \n便利という単語がお客様の声に含まれる  0.371196   0.069843  6.009258e-17 -0.692820 -5.649327e-01   \n\n                            イヤホン      コーヒーメーカー   スマートフォン         タブレット  \\\n年齢                 -4.324614e-01  3.711957e-01 -0.332122  1.698956e-01   \n満足度 (1-5)          -2.208631e-01  6.984303e-02  0.488901 -5.521576e-01   \nおすすめ度 (%)           1.330206e-16  6.009258e-17  0.519615 -6.846532e-01   \n評価                 -2.738613e-01 -6.928203e-01  0.346410  0.000000e+00   \nサポートの評価            -5.359422e-01 -5.649327e-01  0.338960  1.983385e-17   \nイヤホン                1.000000e+00 -3.162278e-01 -0.316228 -5.000000e-01   \nコーヒーメーカー           -3.162278e-01  1.000000e+00 -0.200000  6.324555e-01   \nスマートフォン            -3.162278e-01 -2.000000e-01  1.000000 -3.162278e-01   \nタブレット              -5.000000e-01  6.324555e-01 -0.316228  1.000000e+00   \nノートパソコン            -3.925231e-17  4.472136e-01  0.447214  3.925231e-17   \n便利という単語がお客様の声に含まれる -3.162278e-01  1.000000e+00 -0.200000  6.324555e-01   \n\n                         ノートパソコン  便利という単語がお客様の声に含まれる  \n年齢                 -4.805372e-01        3.711957e-01  \n満足度 (1-5)           4.685213e-01        6.984303e-02  \nおすすめ度 (%)           5.163978e-01        6.009258e-17  \n評価                 -5.163978e-01       -6.928203e-01  \nサポートの評価            -2.526456e-01       -5.649327e-01  \nイヤホン               -3.925231e-17       -3.162278e-01  \nコーヒーメーカー            4.472136e-01        1.000000e+00  \nスマートフォン             4.472136e-01       -2.000000e-01  \nタブレット               3.925231e-17        6.324555e-01  \nノートパソコン             1.000000e+00        4.472136e-01  \n便利という単語がお客様の声に含まれる  4.472136e-01        1.000000e+00  ",
      "text/html": "<div>\n<style scoped>\n    .dataframe tbody tr th:only-of-type {\n        vertical-align: middle;\n    }\n\n    .dataframe tbody tr th {\n        vertical-align: top;\n    }\n\n    .dataframe thead th {\n        text-align: right;\n    }\n</style>\n<table border=\"1\" class=\"dataframe\">\n  <thead>\n    <tr style=\"text-align: right;\">\n      <th></th>\n      <th>年齢</th>\n      <th>満足度 (1-5)</th>\n      <th>おすすめ度 (%)</th>\n      <th>評価</th>\n      <th>サポートの評価</th>\n      <th>イヤホン</th>\n      <th>コーヒーメーカー</th>\n      <th>スマートフォン</th>\n      <th>タブレット</th>\n      <th>ノートパソコン</th>\n      <th>便利という単語がお客様の声に含まれる</th>\n    </tr>\n  </thead>\n  <tbody>\n    <tr>\n      <th>年齢</th>\n      <td>1.000000</td>\n      <td>0.177385</td>\n      <td>4.229802e-02</td>\n      <td>-0.203030</td>\n      <td>-1.545162e-01</td>\n      <td>-4.324614e-01</td>\n      <td>3.711957e-01</td>\n      <td>-0.332122</td>\n      <td>1.698956e-01</td>\n      <td>-4.805372e-01</td>\n      <td>3.711957e-01</td>\n    </tr>\n    <tr>\n      <th>満足度 (1-5)</th>\n      <td>0.177385</td>\n      <td>1.000000</td>\n      <td>9.677734e-01</td>\n      <td>-0.362915</td>\n      <td>3.945661e-02</td>\n      <td>-2.208631e-01</td>\n      <td>6.984303e-02</td>\n      <td>0.488901</td>\n      <td>-5.521576e-01</td>\n      <td>4.685213e-01</td>\n      <td>6.984303e-02</td>\n    </tr>\n    <tr>\n      <th>おすすめ度 (%)</th>\n      <td>0.042298</td>\n      <td>0.967773</td>\n      <td>1.000000e+00</td>\n      <td>-0.400000</td>\n      <td>-9.784921e-02</td>\n      <td>1.330206e-16</td>\n      <td>6.009258e-17</td>\n      <td>0.519615</td>\n      <td>-6.846532e-01</td>\n      <td>5.163978e-01</td>\n      <td>6.009258e-17</td>\n    </tr>\n    <tr>\n      <th>評価</th>\n      <td>-0.203030</td>\n      <td>-0.362915</td>\n      <td>-4.000000e-01</td>\n      <td>1.000000</td>\n      <td>7.827937e-01</td>\n      <td>-2.738613e-01</td>\n      <td>-6.928203e-01</td>\n      <td>0.346410</td>\n      <td>0.000000e+00</td>\n      <td>-5.163978e-01</td>\n      <td>-6.928203e-01</td>\n    </tr>\n    <tr>\n      <th>サポートの評価</th>\n      <td>-0.154516</td>\n      <td>0.039457</td>\n      <td>-9.784921e-02</td>\n      <td>0.782794</td>\n      <td>1.000000e+00</td>\n      <td>-5.359422e-01</td>\n      <td>-5.649327e-01</td>\n      <td>0.338960</td>\n      <td>1.983385e-17</td>\n      <td>-2.526456e-01</td>\n      <td>-5.649327e-01</td>\n    </tr>\n    <tr>\n      <th>イヤホン</th>\n      <td>-0.432461</td>\n      <td>-0.220863</td>\n      <td>1.330206e-16</td>\n      <td>-0.273861</td>\n      <td>-5.359422e-01</td>\n      <td>1.000000e+00</td>\n      <td>-3.162278e-01</td>\n      <td>-0.316228</td>\n      <td>-5.000000e-01</td>\n      <td>-3.925231e-17</td>\n      <td>-3.162278e-01</td>\n    </tr>\n    <tr>\n      <th>コーヒーメーカー</th>\n      <td>0.371196</td>\n      <td>0.069843</td>\n      <td>6.009258e-17</td>\n      <td>-0.692820</td>\n      <td>-5.649327e-01</td>\n      <td>-3.162278e-01</td>\n      <td>1.000000e+00</td>\n      <td>-0.200000</td>\n      <td>6.324555e-01</td>\n      <td>4.472136e-01</td>\n      <td>1.000000e+00</td>\n    </tr>\n    <tr>\n      <th>スマートフォン</th>\n      <td>-0.332122</td>\n      <td>0.488901</td>\n      <td>5.196152e-01</td>\n      <td>0.346410</td>\n      <td>3.389596e-01</td>\n      <td>-3.162278e-01</td>\n      <td>-2.000000e-01</td>\n      <td>1.000000</td>\n      <td>-3.162278e-01</td>\n      <td>4.472136e-01</td>\n      <td>-2.000000e-01</td>\n    </tr>\n    <tr>\n      <th>タブレット</th>\n      <td>0.169896</td>\n      <td>-0.552158</td>\n      <td>-6.846532e-01</td>\n      <td>0.000000</td>\n      <td>1.983385e-17</td>\n      <td>-5.000000e-01</td>\n      <td>6.324555e-01</td>\n      <td>-0.316228</td>\n      <td>1.000000e+00</td>\n      <td>3.925231e-17</td>\n      <td>6.324555e-01</td>\n    </tr>\n    <tr>\n      <th>ノートパソコン</th>\n      <td>-0.480537</td>\n      <td>0.468521</td>\n      <td>5.163978e-01</td>\n      <td>-0.516398</td>\n      <td>-2.526456e-01</td>\n      <td>-3.925231e-17</td>\n      <td>4.472136e-01</td>\n      <td>0.447214</td>\n      <td>3.925231e-17</td>\n      <td>1.000000e+00</td>\n      <td>4.472136e-01</td>\n    </tr>\n    <tr>\n      <th>便利という単語がお客様の声に含まれる</th>\n      <td>0.371196</td>\n      <td>0.069843</td>\n      <td>6.009258e-17</td>\n      <td>-0.692820</td>\n      <td>-5.649327e-01</td>\n      <td>-3.162278e-01</td>\n      <td>1.000000e+00</td>\n      <td>-0.200000</td>\n      <td>6.324555e-01</td>\n      <td>4.472136e-01</td>\n      <td>1.000000e+00</td>\n    </tr>\n  </tbody>\n</table>\n</div>"
     },
     "execution_count": 54,
     "metadata": {},
     "output_type": "execute_result"
    }
   ],
   "source": [
    "# 数値のカラムだけ抽出する\n",
    "df_num = df.select_dtypes(include=\"number\").fillna(0)\n",
    "# カラム同士の相関係数を計算\n",
    "df_num.corr()\n"
   ],
   "metadata": {
    "collapsed": false,
    "ExecuteTime": {
     "end_time": "2023-06-22T16:27:13.226204600Z",
     "start_time": "2023-06-22T16:27:13.125745800Z"
    }
   }
  },
  {
   "cell_type": "code",
   "execution_count": 55,
   "outputs": [
    {
     "data": {
      "text/plain": "     name                  email  age  性別  満足度 (1-5)  おすすめ度 (%)  評価  サポートの評価  \\\n0  Mr. 国崎   KUN**************COM   34  男性          5       1.00   4      4.0   \n1  Mr. 岡崎    OKA*************NET   28  男性          4       0.90   2      2.0   \n2  Ms. 神尾    KAM*************.JP   42  女性          3       0.80   3      NaN   \n3  Ms. 月宮  TSU***************ORG   37  女性          2       0.60   5      5.0   \n4  Ms. 古河   FUR**************COM   46  女性          4       0.85   1      NaN   \n5  Ms. 能美      NOU***********NET   51  女性          5       0.95   3      4.0   \n\n                               お客様の声  イヤホン  コーヒーメーカー  スマートフォン  タブレット  ノートパソコン  \\\n0           非常に満足しています。サポートも素晴らしいです。     0         0        1      0        1   \n1              製品は良いですが、配送が少し遅かったです。     1         0        0      0        1   \n2       イヤホンの音質はまあまあです。もう少し低音がほしいです。     1         0        0      0        0   \n3      機能は豊富ですが、使い勝手があまり良くないかもしれません。     0         0        0      1        0   \n4  このコーヒーメーカーは本当に便利です。毎朝のコーヒーが楽しみです。     0         1        0      1        1   \n5     軽くて持ち運びやすく、バッテリーも長持ちします。大満足です。     0         0        0      0        0   \n\n            ドメイン  便利という単語がお客様の声に含まれる  \n0    example.com                   0  \n1    example.net                   0  \n2  example.co.jp                   0  \n3    example.org                   0  \n4    example.com                   1  \n5    example.net                   0  ",
      "text/html": "<div>\n<style scoped>\n    .dataframe tbody tr th:only-of-type {\n        vertical-align: middle;\n    }\n\n    .dataframe tbody tr th {\n        vertical-align: top;\n    }\n\n    .dataframe thead th {\n        text-align: right;\n    }\n</style>\n<table border=\"1\" class=\"dataframe\">\n  <thead>\n    <tr style=\"text-align: right;\">\n      <th></th>\n      <th>name</th>\n      <th>email</th>\n      <th>age</th>\n      <th>性別</th>\n      <th>満足度 (1-5)</th>\n      <th>おすすめ度 (%)</th>\n      <th>評価</th>\n      <th>サポートの評価</th>\n      <th>お客様の声</th>\n      <th>イヤホン</th>\n      <th>コーヒーメーカー</th>\n      <th>スマートフォン</th>\n      <th>タブレット</th>\n      <th>ノートパソコン</th>\n      <th>ドメイン</th>\n      <th>便利という単語がお客様の声に含まれる</th>\n    </tr>\n  </thead>\n  <tbody>\n    <tr>\n      <th>0</th>\n      <td>Mr. 国崎</td>\n      <td>KUN**************COM</td>\n      <td>34</td>\n      <td>男性</td>\n      <td>5</td>\n      <td>1.00</td>\n      <td>4</td>\n      <td>4.0</td>\n      <td>非常に満足しています。サポートも素晴らしいです。</td>\n      <td>0</td>\n      <td>0</td>\n      <td>1</td>\n      <td>0</td>\n      <td>1</td>\n      <td>example.com</td>\n      <td>0</td>\n    </tr>\n    <tr>\n      <th>1</th>\n      <td>Mr. 岡崎</td>\n      <td>OKA*************NET</td>\n      <td>28</td>\n      <td>男性</td>\n      <td>4</td>\n      <td>0.90</td>\n      <td>2</td>\n      <td>2.0</td>\n      <td>製品は良いですが、配送が少し遅かったです。</td>\n      <td>1</td>\n      <td>0</td>\n      <td>0</td>\n      <td>0</td>\n      <td>1</td>\n      <td>example.net</td>\n      <td>0</td>\n    </tr>\n    <tr>\n      <th>2</th>\n      <td>Ms. 神尾</td>\n      <td>KAM*************.JP</td>\n      <td>42</td>\n      <td>女性</td>\n      <td>3</td>\n      <td>0.80</td>\n      <td>3</td>\n      <td>NaN</td>\n      <td>イヤホンの音質はまあまあです。もう少し低音がほしいです。</td>\n      <td>1</td>\n      <td>0</td>\n      <td>0</td>\n      <td>0</td>\n      <td>0</td>\n      <td>example.co.jp</td>\n      <td>0</td>\n    </tr>\n    <tr>\n      <th>3</th>\n      <td>Ms. 月宮</td>\n      <td>TSU***************ORG</td>\n      <td>37</td>\n      <td>女性</td>\n      <td>2</td>\n      <td>0.60</td>\n      <td>5</td>\n      <td>5.0</td>\n      <td>機能は豊富ですが、使い勝手があまり良くないかもしれません。</td>\n      <td>0</td>\n      <td>0</td>\n      <td>0</td>\n      <td>1</td>\n      <td>0</td>\n      <td>example.org</td>\n      <td>0</td>\n    </tr>\n    <tr>\n      <th>4</th>\n      <td>Ms. 古河</td>\n      <td>FUR**************COM</td>\n      <td>46</td>\n      <td>女性</td>\n      <td>4</td>\n      <td>0.85</td>\n      <td>1</td>\n      <td>NaN</td>\n      <td>このコーヒーメーカーは本当に便利です。毎朝のコーヒーが楽しみです。</td>\n      <td>0</td>\n      <td>1</td>\n      <td>0</td>\n      <td>1</td>\n      <td>1</td>\n      <td>example.com</td>\n      <td>1</td>\n    </tr>\n    <tr>\n      <th>5</th>\n      <td>Ms. 能美</td>\n      <td>NOU***********NET</td>\n      <td>51</td>\n      <td>女性</td>\n      <td>5</td>\n      <td>0.95</td>\n      <td>3</td>\n      <td>4.0</td>\n      <td>軽くて持ち運びやすく、バッテリーも長持ちします。大満足です。</td>\n      <td>0</td>\n      <td>0</td>\n      <td>0</td>\n      <td>0</td>\n      <td>0</td>\n      <td>example.net</td>\n      <td>0</td>\n    </tr>\n  </tbody>\n</table>\n</div>"
     },
     "execution_count": 55,
     "metadata": {},
     "output_type": "execute_result"
    }
   ],
   "source": [
    "HEADER_MAPPING = {\n",
    "    \"名前\": \"name\",\n",
    "    \"Eメール\": \"email\",\n",
    "    \"年齢\": \"age\"\n",
    "}\n",
    "\n",
    "# カラム名を変更\n",
    "df = df.rename(columns=HEADER_MAPPING)\n",
    "df"
   ],
   "metadata": {
    "collapsed": false,
    "ExecuteTime": {
     "end_time": "2023-06-22T16:27:13.231205200Z",
     "start_time": "2023-06-22T16:27:13.156509300Z"
    }
   }
  },
  {
   "cell_type": "code",
   "execution_count": 60,
   "outputs": [
    {
     "data": {
      "text/plain": "(3.75, 3.5)"
     },
     "execution_count": 60,
     "metadata": {},
     "output_type": "execute_result"
    }
   ],
   "source": [
    "# サポートの評価の数値のみの平均値を計算\n",
    "support_mean1 = df_num[\"サポートの評価\"].mean()\n",
    "# サポートの評価の数値のみの平均値を計算（欠損値を3で埋める）\n",
    "support_mean2 = df_num[\"サポートの評価\"].fillna(3).mean()\n",
    "\n",
    "(support_mean1, support_mean2)"
   ],
   "metadata": {
    "collapsed": false,
    "ExecuteTime": {
     "end_time": "2023-06-22T16:29:36.491811700Z",
     "start_time": "2023-06-22T16:29:36.480812200Z"
    }
   }
  },
  {
   "cell_type": "code",
   "execution_count": null,
   "outputs": [],
   "source": [],
   "metadata": {
    "collapsed": false
   }
  }
 ],
 "metadata": {
  "kernelspec": {
   "display_name": "Python 3",
   "language": "python",
   "name": "python3"
  },
  "language_info": {
   "codemirror_mode": {
    "name": "ipython",
    "version": 2
   },
   "file_extension": ".py",
   "mimetype": "text/x-python",
   "name": "python",
   "nbconvert_exporter": "python",
   "pygments_lexer": "ipython2",
   "version": "2.7.6"
  }
 },
 "nbformat": 4,
 "nbformat_minor": 0
}
